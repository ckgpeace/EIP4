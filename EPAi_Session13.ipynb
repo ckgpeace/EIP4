{
  "nbformat": 4,
  "nbformat_minor": 0,
  "metadata": {
    "colab": {
      "name": "Session13.ipynb",
      "provenance": [],
      "collapsed_sections": [],
      "toc_visible": true,
      "authorship_tag": "ABX9TyPLS0/V5ZbWNRDwZ4CPedLd",
      "include_colab_link": true
    },
    "kernelspec": {
      "name": "python3",
      "display_name": "Python 3"
    }
  },
  "cells": [
    {
      "cell_type": "markdown",
      "metadata": {
        "id": "view-in-github",
        "colab_type": "text"
      },
      "source": [
        "<a href=\"https://colab.research.google.com/github/ckgpeace/EIP4/blob/master/EPAi_Session13.ipynb\" target=\"_parent\"><img src=\"https://colab.research.google.com/assets/colab-badge.svg\" alt=\"Open In Colab\"/></a>"
      ]
    },
    {
      "cell_type": "markdown",
      "metadata": {
        "id": "P8v8nPCqUjUt"
      },
      "source": [
        "## OBJECTIVE 1"
      ]
    },
    {
      "cell_type": "markdown",
      "metadata": {
        "id": "PCBt3q2bOlhz"
      },
      "source": [
        "Objective:\n",
        "Create a Polygon Class where initializer takes in:\n",
        "\n",
        "1. **number of edges/vertices**\n",
        "\n",
        "2. **circumradius**\n",
        "\n",
        "that can provide these properties:\n",
        "1. edges\n",
        "2. vertices\n",
        "3. interior angle\n",
        "4. edge length\n",
        "5. apothem\n",
        "6. area\n",
        "7. perimeter\n",
        "\n",
        "that has these functionalities:\n",
        "1. a proper __repr__ function\n",
        "2. implements equality (==) based on # vertices and circumradius (__eq__)\n",
        "3. implements > based on number of vertices only (__gt__)"
      ]
    },
    {
      "cell_type": "markdown",
      "metadata": {
        "id": "TZu5fJ1_PtZB"
      },
      "source": [
        "## Checking the functionality of module 'polygon1'\n",
        "### Importing polygon module"
      ]
    },
    {
      "cell_type": "code",
      "metadata": {
        "id": "st8sGMo5swaA"
      },
      "source": [
        "import polygon1 as pol1"
      ],
      "execution_count": null,
      "outputs": []
    },
    {
      "cell_type": "code",
      "metadata": {
        "id": "ZEzGegHHQaA0",
        "outputId": "4b321c98-9006-40a2-d776-96b8d8bae1d7",
        "colab": {
          "base_uri": "https://localhost:8080/"
        }
      },
      "source": [
        "### Checking a general polygon\n",
        "\n",
        "p1 = pol1.polygon1(n_edge = 6, r_circum = 10)\n",
        "\n",
        "print(f'The number of Edges of polygon: {round(p1.n_edge,2)}')\n",
        "print(f'The Circumradius of polygon:    {round(p1.r_circum,2)}')\n",
        "print(f'The Interior Angle of polygon:  {round(p1.int_angle,2)}')\n",
        "print(f'The Length of edge of polygon:  {round(p1.edge_len,2)}')\n",
        "print(f'The Apothem of polygon:         {round(p1.apothem,2)}')\n",
        "print(f'The Area of polygon:            {round(p1.area,2)}')\n",
        "print(f'The Perimeter of polygon:       {round(p1.perimeter,2)}')\n",
        "\n",
        "\n",
        "# [p1.n_edge, p1.r_circum, p1.int_angle, p1.edge_len, p1.apothem, p1.area, p1.perimeter]"
      ],
      "execution_count": null,
      "outputs": [
        {
          "output_type": "stream",
          "text": [
            "The number of Edges of polygon: 6\n",
            "The Circumradius of polygon:    10\n",
            "The Interior Angle of polygon:  120.0\n",
            "The Length of edge of polygon:  10.0\n",
            "The Apothem of polygon:         8.66\n",
            "The Area of polygon:            259.81\n",
            "The Perimeter of polygon:       60.0\n"
          ],
          "name": "stdout"
        }
      ]
    },
    {
      "cell_type": "markdown",
      "metadata": {
        "id": "kikQ-FnSTF4L"
      },
      "source": [
        "### Check for repr function"
      ]
    },
    {
      "cell_type": "code",
      "metadata": {
        "id": "VnPnTBliTRGm",
        "outputId": "a4f3fcb9-6363-4811-a3c4-c0f24c7cd3be",
        "colab": {
          "base_uri": "https://localhost:8080/"
        }
      },
      "source": [
        "print(p1)"
      ],
      "execution_count": null,
      "outputs": [
        {
          "output_type": "stream",
          "text": [
            "The Current Instance of Polygon has following properties: \n",
            "                Number of Edges: 6 Circumradius: 10 Internal Angle: 120.0 Edge Length: 9.999999999999998 Apothem: 8.660254037844387 Area: 259.80762113533154 and Perimeter: 59.999999999999986\n"
          ],
          "name": "stdout"
        }
      ]
    },
    {
      "cell_type": "markdown",
      "metadata": {
        "id": "dCTC1F6jTf2z"
      },
      "source": [
        "### Check for equality function"
      ]
    },
    {
      "cell_type": "code",
      "metadata": {
        "id": "Zp3k_0ldTpSe",
        "outputId": "faed4976-8f6b-4101-c632-c4452044a9c1",
        "colab": {
          "base_uri": "https://localhost:8080/"
        }
      },
      "source": [
        "# Example1\n",
        "p1 = pol1.polygon1(n_edge = 7, r_circum = 10)\n",
        "p2 = pol1.polygon1(n_edge = 4, r_circum = 9)\n",
        "\n",
        "p1 == p2"
      ],
      "execution_count": null,
      "outputs": [
        {
          "output_type": "execute_result",
          "data": {
            "text/plain": [
              "False"
            ]
          },
          "metadata": {
            "tags": []
          },
          "execution_count": 10
        }
      ]
    },
    {
      "cell_type": "code",
      "metadata": {
        "id": "EHdUnLuPT2Jh",
        "outputId": "c55f0b31-dfd7-4636-c3c2-d209037b4313",
        "colab": {
          "base_uri": "https://localhost:8080/"
        }
      },
      "source": [
        "# Example2\n",
        "p1 = pol1.polygon1(n_edge = 7, r_circum = 10)\n",
        "p2 = pol1.polygon1(n_edge = 7, r_circum = 9)\n",
        "\n",
        "p1 == p2"
      ],
      "execution_count": null,
      "outputs": [
        {
          "output_type": "execute_result",
          "data": {
            "text/plain": [
              "False"
            ]
          },
          "metadata": {
            "tags": []
          },
          "execution_count": 11
        }
      ]
    },
    {
      "cell_type": "code",
      "metadata": {
        "id": "za4std5cT6da",
        "outputId": "cdd66c5a-0b6c-44b2-9948-5c2154756b79",
        "colab": {
          "base_uri": "https://localhost:8080/"
        }
      },
      "source": [
        "# Example3\n",
        "p1 = pol1.polygon1(n_edge = 7, r_circum = 10)\n",
        "p2 = pol1.polygon1(n_edge = 7, r_circum = 10)\n",
        "\n",
        "p1 == p2"
      ],
      "execution_count": null,
      "outputs": [
        {
          "output_type": "execute_result",
          "data": {
            "text/plain": [
              "True"
            ]
          },
          "metadata": {
            "tags": []
          },
          "execution_count": 12
        }
      ]
    },
    {
      "cell_type": "markdown",
      "metadata": {
        "id": "tHmfC1vgUEpn"
      },
      "source": [
        "### Check for the equality function\n"
      ]
    },
    {
      "cell_type": "code",
      "metadata": {
        "id": "cobKZrhMUDMq",
        "outputId": "45f38c25-a8f9-47af-b812-7165d93e7b0a",
        "colab": {
          "base_uri": "https://localhost:8080/"
        }
      },
      "source": [
        "# Example1\n",
        "p1 = pol1.polygon1(n_edge = 7, r_circum = 10)\n",
        "p2 = pol1.polygon1(n_edge = 4, r_circum = 9)\n",
        "\n",
        "p1 > p2"
      ],
      "execution_count": null,
      "outputs": [
        {
          "output_type": "execute_result",
          "data": {
            "text/plain": [
              "True"
            ]
          },
          "metadata": {
            "tags": []
          },
          "execution_count": 13
        }
      ]
    },
    {
      "cell_type": "code",
      "metadata": {
        "id": "4pi2WXa7UCA_",
        "outputId": "220848cd-ebf9-475b-a1ac-0a6512ff1a59",
        "colab": {
          "base_uri": "https://localhost:8080/"
        }
      },
      "source": [
        "# Example2\n",
        "p1 = pol1.polygon1(n_edge = 4, r_circum = 10)\n",
        "p2 = pol1.polygon1(n_edge = 4, r_circum = 9)\n",
        "\n",
        "p1 > p2"
      ],
      "execution_count": null,
      "outputs": [
        {
          "output_type": "execute_result",
          "data": {
            "text/plain": [
              "False"
            ]
          },
          "metadata": {
            "tags": []
          },
          "execution_count": 14
        }
      ]
    },
    {
      "cell_type": "code",
      "metadata": {
        "id": "SUJ1wo18Uamd",
        "outputId": "3eb5dbf7-f51d-4b57-d8c4-e7e607b62bd5",
        "colab": {
          "base_uri": "https://localhost:8080/"
        }
      },
      "source": [
        "# Example2\n",
        "p1 = pol1.polygon1(n_edge = 4, r_circum = 10)\n",
        "p2 = pol1.polygon1(n_edge = 10, r_circum = 1)\n",
        "\n",
        "p1 > p2"
      ],
      "execution_count": null,
      "outputs": [
        {
          "output_type": "execute_result",
          "data": {
            "text/plain": [
              "False"
            ]
          },
          "metadata": {
            "tags": []
          },
          "execution_count": 15
        }
      ]
    },
    {
      "cell_type": "markdown",
      "metadata": {
        "id": "WdloKWPfU0OQ"
      },
      "source": [
        "# OBJECTIVE 2"
      ]
    },
    {
      "cell_type": "markdown",
      "metadata": {
        "id": "lULltx5bVAGs"
      },
      "source": [
        "**max efficiency polygon: returns the Polygon with the highest area: perimeter ratio**"
      ]
    },
    {
      "cell_type": "code",
      "metadata": {
        "id": "V4Qp7SoOVMJ_"
      },
      "source": [
        "#Importing module 2 - 'polygon2'\n",
        "import polygon2"
      ],
      "execution_count": null,
      "outputs": []
    },
    {
      "cell_type": "code",
      "metadata": {
        "id": "uL_oVihpUyOh",
        "outputId": "f0f74b92-06ed-49f7-bc4f-ed2a5542995a",
        "colab": {
          "base_uri": "https://localhost:8080/",
          "height": 223
        }
      },
      "source": [
        "p2 = polygon2(100)\n",
        "a = []\n",
        "for i in p2:\n",
        "    a.append(i)\n",
        "a.index(max(a)), max(a)"
      ],
      "execution_count": null,
      "outputs": [
        {
          "output_type": "error",
          "ename": "TypeError",
          "evalue": "ignored",
          "traceback": [
            "\u001b[0;31m---------------------------------------------------------------------------\u001b[0m",
            "\u001b[0;31mTypeError\u001b[0m                                 Traceback (most recent call last)",
            "\u001b[0;32m<ipython-input-20-cbcf0b650371>\u001b[0m in \u001b[0;36m<module>\u001b[0;34m()\u001b[0m\n\u001b[0;32m----> 1\u001b[0;31m \u001b[0mp2\u001b[0m \u001b[0;34m=\u001b[0m \u001b[0mpolygon2\u001b[0m\u001b[0;34m(\u001b[0m\u001b[0;36m100\u001b[0m\u001b[0;34m)\u001b[0m\u001b[0;34m\u001b[0m\u001b[0;34m\u001b[0m\u001b[0m\n\u001b[0m\u001b[1;32m      2\u001b[0m \u001b[0ma\u001b[0m \u001b[0;34m=\u001b[0m \u001b[0;34m[\u001b[0m\u001b[0;34m]\u001b[0m\u001b[0;34m\u001b[0m\u001b[0;34m\u001b[0m\u001b[0m\n\u001b[1;32m      3\u001b[0m \u001b[0;32mfor\u001b[0m \u001b[0mi\u001b[0m \u001b[0;32min\u001b[0m \u001b[0mp2\u001b[0m\u001b[0;34m:\u001b[0m\u001b[0;34m\u001b[0m\u001b[0;34m\u001b[0m\u001b[0m\n\u001b[1;32m      4\u001b[0m     \u001b[0ma\u001b[0m\u001b[0;34m.\u001b[0m\u001b[0mappend\u001b[0m\u001b[0;34m(\u001b[0m\u001b[0mi\u001b[0m\u001b[0;34m)\u001b[0m\u001b[0;34m\u001b[0m\u001b[0;34m\u001b[0m\u001b[0m\n\u001b[1;32m      5\u001b[0m \u001b[0ma\u001b[0m\u001b[0;34m.\u001b[0m\u001b[0mindex\u001b[0m\u001b[0;34m(\u001b[0m\u001b[0mmax\u001b[0m\u001b[0;34m(\u001b[0m\u001b[0ma\u001b[0m\u001b[0;34m)\u001b[0m\u001b[0;34m)\u001b[0m\u001b[0;34m,\u001b[0m \u001b[0mmax\u001b[0m\u001b[0;34m(\u001b[0m\u001b[0ma\u001b[0m\u001b[0;34m)\u001b[0m\u001b[0;34m\u001b[0m\u001b[0;34m\u001b[0m\u001b[0m\n",
            "\u001b[0;31mTypeError\u001b[0m: 'module' object is not callable"
          ]
        }
      ]
    },
    {
      "cell_type": "code",
      "metadata": {
        "id": "OL9f3pRHUqXk"
      },
      "source": [
        ""
      ],
      "execution_count": null,
      "outputs": []
    },
    {
      "cell_type": "code",
      "metadata": {
        "id": "vn9ZtJIEUqaN"
      },
      "source": [
        "class polygon2:\n",
        "    '''\n",
        "    This class create sequence all instances of polygon with in range(0,n) with common radius\n",
        "    The _ratio function returns most efficient ratio i.e. 'max efficiency polygon': returns the Polygon with the highest area: perimeter ratio\n",
        "    '''\n",
        "\n",
        "    def __init__(self, n):\n",
        "        self.n = n\n",
        "\n",
        "    def __len__(self):\n",
        "        return self.n\n",
        "\n",
        "    def __repr__(self):\n",
        "        return f'The maximum edges/vertices of polygon is sequence {n} and circumradius is 1 for all'\n",
        "                \n",
        "\n",
        "    def __getitem__(self, s):\n",
        "        if isinstance(s, int):\n",
        "            if s < 0 or s >=self.n:\n",
        "                raise IndexError\n",
        "            else:\n",
        "                return polygon2._ratio(s)\n",
        "\n",
        "    @staticmethod\n",
        "    def _ratio(n):\n",
        "        if n<3:\n",
        "            e_ratio=0\n",
        "        else:\n",
        "            p = pol1.polygon1(n,1)\n",
        "            e_ratio =  p.area/p.perimeter\n",
        "        return e_ratio"
      ],
      "execution_count": null,
      "outputs": []
    },
    {
      "cell_type": "code",
      "metadata": {
        "id": "MEqDmLjHUqcl"
      },
      "source": [
        ""
      ],
      "execution_count": null,
      "outputs": []
    },
    {
      "cell_type": "code",
      "metadata": {
        "id": "_2cl2cwfUqe5"
      },
      "source": [
        ""
      ],
      "execution_count": null,
      "outputs": []
    },
    {
      "cell_type": "code",
      "metadata": {
        "id": "ss2jyr5XUqhT"
      },
      "source": [
        ""
      ],
      "execution_count": null,
      "outputs": []
    },
    {
      "cell_type": "code",
      "metadata": {
        "id": "7SIybn7jUqj8"
      },
      "source": [
        ""
      ],
      "execution_count": null,
      "outputs": []
    },
    {
      "cell_type": "code",
      "metadata": {
        "id": "4I6orUreUqmi"
      },
      "source": [
        ""
      ],
      "execution_count": null,
      "outputs": []
    },
    {
      "cell_type": "code",
      "metadata": {
        "id": "8I2wxHYyLFbC"
      },
      "source": [
        ""
      ],
      "execution_count": null,
      "outputs": []
    },
    {
      "cell_type": "code",
      "metadata": {
        "id": "xf09zFS9LFde"
      },
      "source": [
        ""
      ],
      "execution_count": null,
      "outputs": []
    }
  ]
}