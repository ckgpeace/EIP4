{
  "nbformat": 4,
  "nbformat_minor": 0,
  "metadata": {
    "kernelspec": {
      "name": "python3",
      "display_name": "Python 3"
    },
    "language_info": {
      "codemirror_mode": {
        "name": "ipython",
        "version": 3
      },
      "file_extension": ".py",
      "mimetype": "text/x-python",
      "name": "python",
      "nbconvert_exporter": "python",
      "pygments_lexer": "ipython3",
      "version": "3.6.6"
    },
    "colab": {
      "name": "S7.ipynb",
      "provenance": [],
      "collapsed_sections": [],
      "include_colab_link": true
    },
    "accelerator": "GPU"
  },
  "cells": [
    {
      "cell_type": "markdown",
      "metadata": {
        "id": "view-in-github",
        "colab_type": "text"
      },
      "source": [
        "<a href=\"https://colab.research.google.com/github/ckgpeace/EIP4/blob/master/S7/S7.ipynb\" target=\"_parent\"><img src=\"https://colab.research.google.com/assets/colab-badge.svg\" alt=\"Open In Colab\"/></a>"
      ]
    },
    {
      "cell_type": "code",
      "metadata": {
        "id": "QVbdg0z4poCc",
        "colab_type": "code",
        "colab": {}
      },
      "source": [
        "%matplotlib inline\n",
        "\n",
        "import torch\n",
        "import torch.nn as nn\n",
        "import torch.nn.functional as F\n",
        "import torch.optim as optim\n",
        "from torchvision import datasets, transforms, utils\n",
        "import matplotlib.pyplot as plt\n",
        "from pdb import set_trace as bp\n",
        "import pandas as pd\n",
        "\n",
        "import torch\n",
        "import torchvision\n",
        "import torchvision.transforms as transforms\n",
        "from tqdm import tqdm"
      ],
      "execution_count": 0,
      "outputs": []
    },
    {
      "cell_type": "markdown",
      "metadata": {
        "id": "fPogbueepoCh",
        "colab_type": "text"
      },
      "source": [
        "\n",
        "Training a Classifier\n",
        "=====================\n",
        "\n",
        "This is it. You have seen how to define neural networks, compute loss and make\n",
        "updates to the weights of the network.\n",
        "\n",
        "Now you might be thinking,\n",
        "\n",
        "What about data?\n",
        "----------------\n",
        "\n",
        "Generally, when you have to deal with image, text, audio or video data,\n",
        "you can use standard python packages that load data into a numpy array.\n",
        "Then you can convert this array into a ``torch.*Tensor``.\n",
        "\n",
        "-  For images, packages such as Pillow, OpenCV are useful\n",
        "-  For audio, packages such as scipy and librosa\n",
        "-  For text, either raw Python or Cython based loading, or NLTK and\n",
        "   SpaCy are useful\n",
        "\n",
        "Specifically for vision, we have created a package called\n",
        "``torchvision``, that has data loaders for common datasets such as\n",
        "Imagenet, CIFAR10, MNIST, etc. and data transformers for images, viz.,\n",
        "``torchvision.datasets`` and ``torch.utils.data.DataLoader``.\n",
        "\n",
        "This provides a huge convenience and avoids writing boilerplate code.\n",
        "\n",
        "For this tutorial, we will use the CIFAR10 dataset.\n",
        "It has the classes: ‘airplane’, ‘automobile’, ‘bird’, ‘cat’, ‘deer’,\n",
        "‘dog’, ‘frog’, ‘horse’, ‘ship’, ‘truck’. The images in CIFAR-10 are of\n",
        "size 3x32x32, i.e. 3-channel color images of 32x32 pixels in size.\n",
        "\n",
        ".. figure:: /_static/img/cifar10.png\n",
        "   :alt: cifar10\n",
        "\n",
        "   cifar10\n",
        "\n",
        "\n",
        "Training an image classifier\n",
        "----------------------------\n",
        "\n",
        "We will do the following steps in order:\n",
        "\n",
        "1. Load and normalizing the CIFAR10 training and test datasets using\n",
        "   ``torchvision``\n",
        "2. Define a Convolution Neural Network\n",
        "3. Define a loss function\n",
        "4. Train the network on the training data\n",
        "5. Test the network on the test data\n",
        "\n",
        "1. Loading and normalizing CIFAR10\n",
        "^^^^^^^^^^^^^^^^^^^^^^^^^^^^^^^^^^\n",
        "\n",
        "Using ``torchvision``, it’s extremely easy to load CIFAR10.\n",
        "\n"
      ]
    },
    {
      "cell_type": "markdown",
      "metadata": {
        "id": "5kjt4e2TpoCk",
        "colab_type": "text"
      },
      "source": [
        "The output of torchvision datasets are PILImage images of range [0, 1].\n",
        "We transform them to Tensors of normalized range [-1, 1].\n",
        "\n"
      ]
    },
    {
      "cell_type": "code",
      "metadata": {
        "id": "D8Tjigo2poCl",
        "colab_type": "code",
        "outputId": "679bbf53-275f-43dc-983a-9aa01baa5940",
        "colab": {
          "base_uri": "https://localhost:8080/",
          "height": 52
        }
      },
      "source": [
        "transform = transforms.Compose(\n",
        "    [transforms.ToTensor(),\n",
        "     transforms.Normalize((0.5, 0.5, 0.5), (0.5, 0.5, 0.5))])\n",
        "\n",
        "trainset = torchvision.datasets.CIFAR10(root='./data', train=True,\n",
        "                                        download=True, transform=transform)\n",
        "\n",
        "trainloader = torch.utils.data.DataLoader(trainset, batch_size=32,\n",
        "                                          shuffle=True, num_workers=8)\n",
        "\n",
        "testset = torchvision.datasets.CIFAR10(root='./data', train=False,\n",
        "                                       download=True, transform=transform)\n",
        "testloader = torch.utils.data.DataLoader(testset, batch_size=32,\n",
        "                                         shuffle=False, num_workers=8)\n",
        "\n",
        "classes = ('plane', 'car', 'bird', 'cat',\n",
        "           'deer', 'dog', 'frog', 'horse', 'ship', 'truck')"
      ],
      "execution_count": 2,
      "outputs": [
        {
          "output_type": "stream",
          "text": [
            "Files already downloaded and verified\n",
            "Files already downloaded and verified\n"
          ],
          "name": "stdout"
        }
      ]
    },
    {
      "cell_type": "markdown",
      "metadata": {
        "id": "_cj433rtpoCn",
        "colab_type": "text"
      },
      "source": [
        "Let us show some of the training images, for fun.\n",
        "\n"
      ]
    },
    {
      "cell_type": "code",
      "metadata": {
        "id": "daA7bADhpoCo",
        "colab_type": "code",
        "outputId": "4b9eb77c-c20e-4de4-df94-345968a60c54",
        "colab": {
          "base_uri": "https://localhost:8080/",
          "height": 257
        }
      },
      "source": [
        "import matplotlib.pyplot as plt\n",
        "import numpy as np\n",
        "\n",
        "# functions to show an image\n",
        "\n",
        "\n",
        "def imshow(img):\n",
        "    img = img / 2 + 0.5     # unnormalize\n",
        "    npimg = img.numpy()\n",
        "    plt.imshow(np.transpose(npimg, (1, 2, 0)))\n",
        "\n",
        "\n",
        "# get some random training images\n",
        "dataiter = iter(trainloader)\n",
        "images, labels = dataiter.next()\n",
        "\n",
        "# show images\n",
        "imshow(torchvision.utils.make_grid(images))\n",
        "# print labels\n",
        "# print(' '.join('%5s' % classes[labels[j]] for j in range(32)))\n",
        "print(' '.join('%0.1f %5s %s' % (j,classes[labels[j]], images[j].shape) for j in range(32)))\n"
      ],
      "execution_count": 3,
      "outputs": [
        {
          "output_type": "stream",
          "text": [
            "0.0 horse torch.Size([3, 32, 32]) 1.0 plane torch.Size([3, 32, 32]) 2.0   cat torch.Size([3, 32, 32]) 3.0   car torch.Size([3, 32, 32]) 4.0  bird torch.Size([3, 32, 32]) 5.0  bird torch.Size([3, 32, 32]) 6.0 plane torch.Size([3, 32, 32]) 7.0 truck torch.Size([3, 32, 32]) 8.0  bird torch.Size([3, 32, 32]) 9.0   dog torch.Size([3, 32, 32]) 10.0   dog torch.Size([3, 32, 32]) 11.0  deer torch.Size([3, 32, 32]) 12.0  deer torch.Size([3, 32, 32]) 13.0   dog torch.Size([3, 32, 32]) 14.0   dog torch.Size([3, 32, 32]) 15.0   cat torch.Size([3, 32, 32]) 16.0  frog torch.Size([3, 32, 32]) 17.0   dog torch.Size([3, 32, 32]) 18.0  ship torch.Size([3, 32, 32]) 19.0  ship torch.Size([3, 32, 32]) 20.0 plane torch.Size([3, 32, 32]) 21.0 plane torch.Size([3, 32, 32]) 22.0 horse torch.Size([3, 32, 32]) 23.0   dog torch.Size([3, 32, 32]) 24.0  deer torch.Size([3, 32, 32]) 25.0   cat torch.Size([3, 32, 32]) 26.0  deer torch.Size([3, 32, 32]) 27.0  frog torch.Size([3, 32, 32]) 28.0  ship torch.Size([3, 32, 32]) 29.0  ship torch.Size([3, 32, 32]) 30.0   dog torch.Size([3, 32, 32]) 31.0 plane torch.Size([3, 32, 32])\n"
          ],
          "name": "stdout"
        },
        {
          "output_type": "display_data",
          "data": {
            "image/png": "[encoded data removed]",
            "text/plain": [
              "<Figure size 432x288 with 1 Axes>"
            ]
          },
          "metadata": {
            "tags": []
          }
        }
      ]
    },
    {
      "cell_type": "markdown",
      "metadata": {
        "id": "28OpHA_LpoCq",
        "colab_type": "text"
      },
      "source": [
        "## 2. Define a Convolution Neural Network\n",
        "\n",
        "\n",
        "Copy the neural network from the Neural Networks section before and modify it to\n",
        "take 3-channel images (instead of 1-channel images as it was defined).\n",
        "\n"
      ]
    },
    {
      "cell_type": "code",
      "metadata": {
        "id": "0jjLwLLQpoCr",
        "colab_type": "code",
        "colab": {}
      },
      "source": [
        "#model4:\n",
        "\n",
        "dropout_value = 0.1\n",
        "num_classes = 10\n",
        "class Net(nn.Module):\n",
        "    def __init__(self):\n",
        "        super(Net, self).__init__()\n",
        "       \n",
        "        # INPUT BLOCK\n",
        "        self.convblock1 = nn.Sequential(\n",
        "            nn.Conv2d(in_channels=3, out_channels=8, kernel_size=(3, 3), padding=1, padding_mode = 'replicate', bias=False),\n",
        "            nn.ReLU(),\n",
        "            nn.BatchNorm2d(8),\n",
        "            nn.Dropout(dropout_value)\n",
        "        ) \n",
        "        # input_size = 32 output_size = 32 receptive_field = 3\n",
        "        # INPUT BLOCK ENDS  =============\n",
        "\n",
        "        # CONVOLUTION BLOCK 1\n",
        "        self.convblock2 = nn.Sequential(\n",
        "            nn.Conv2d(in_channels=8, out_channels=16, kernel_size=(3, 3), padding=1, padding_mode = 'replicate', bias=False),\n",
        "            nn.ReLU(),\n",
        "            nn.BatchNorm2d(16),\n",
        "            nn.Dropout(dropout_value)\n",
        "        ) \n",
        "        # input_size = 32 output_size = 32 receptive_field = 5\n",
        "        \n",
        "        self.convblock3 = nn.Sequential(\n",
        "            nn.Conv2d(in_channels=16, out_channels=32, kernel_size=(3, 3), padding=1,  padding_mode = 'replicate', bias=False),\n",
        "            nn.ReLU(),\n",
        "            nn.BatchNorm2d(32),\n",
        "            nn.Dropout(dropout_value)\n",
        "        )\n",
        "        # input_size = 32 output_size = 32 receptive_field = 7\n",
        "\n",
        "        self.convblock4 = nn.Sequential(\n",
        "            nn.Conv2d(in_channels=32, out_channels=64, kernel_size=(3, 3), padding=1,  padding_mode = 'replicate', bias=False),\n",
        "            nn.ReLU(),\n",
        "            nn.BatchNorm2d(64),\n",
        "            nn.Dropout(dropout_value)\n",
        "        ) \n",
        "        # input_size = 32 output_size = 32 receptive_field = 9\n",
        "        # CONVOLUTION BLOCK 1 ENDS =============\n",
        "\n",
        "        # TRANSITION BLOCK 1\n",
        "        self.pool1 = nn.MaxPool2d(2, 2) \n",
        "        # input_size = 32 output_size = 16 receptive_field = 18\n",
        "\n",
        "        self.convblock5 = nn.Sequential(\n",
        "            nn.Conv2d(in_channels=64, out_channels=8, kernel_size=(1, 1), padding=0, bias=False),\n",
        "            nn.ReLU(),\n",
        "            nn.BatchNorm2d(8),\n",
        "            nn.Dropout(dropout_value)\n",
        "        ) \n",
        "        # input_size = 16 output_size = 16 receptive_field = 18\n",
        "        # TRANSITION BLOCK 1 ENDS =============\n",
        "\n",
        "        # CONVOLUTION BLOCK 2 - Depthwise Separable Convolution\n",
        "        self.depthwise1 = nn.Sequential(\n",
        "            nn.Conv2d(in_channels=8, out_channels=16, kernel_size=(3, 3), padding=1,  padding_mode = 'replicate', bias=False, groups=8),\n",
        "            nn.ReLU(),\n",
        "            nn.BatchNorm2d(16),\n",
        "            nn.Dropout(dropout_value)\n",
        "        ) \n",
        "        # input_size = 16 output_size = 16 receptive_field = 20\n",
        "        self.depthwise2 = nn.Sequential(\n",
        "            nn.Conv2d(in_channels=16, out_channels=32, kernel_size=(3, 3), padding=1,  padding_mode = 'replicate', bias=False, groups=16),\n",
        "            nn.ReLU(),\n",
        "            nn.BatchNorm2d(32),\n",
        "            nn.Dropout(dropout_value)\n",
        "        ) \n",
        "        # input_size = 16 output_size = 16 receptive_field = 22\n",
        "\n",
        "        self.depthwise3 = nn.Sequential(\n",
        "            nn.Conv2d(in_channels=32, out_channels=64, kernel_size=(3, 3), padding=1,  padding_mode = 'replicate', bias=False, groups=32),\n",
        "            nn.ReLU(),\n",
        "            nn.BatchNorm2d(64),\n",
        "            nn.Dropout(dropout_value)\n",
        "        ) \n",
        "        # input_size = 16 output_size = 16 receptive_field = 24\n",
        "        # CONVOLUTION BLOCK 2 ENDS =============\n",
        "\n",
        "        # TRANSITION BLOCK 2\n",
        "        self.pool2 = nn.MaxPool2d(2, 2) \n",
        "        # input_size = 16 output_size = 8 receptive_field = 48\n",
        "        self.convblock6 = nn.Sequential(\n",
        "            nn.Conv2d(in_channels=64, out_channels=8, kernel_size=(1, 1), padding=0, bias=False),\n",
        "            nn.ReLU(),\n",
        "            nn.BatchNorm2d(8),\n",
        "            nn.Dropout(dropout_value)\n",
        "        ) \n",
        "        # input_size = 8 output_size = 8 receptive_field = 48\n",
        "        # TRANSITION BLOCK 1 ENDS =============\n",
        "\n",
        "        # CONVOLUTION BLOCK 3 - Dilated Convolution\n",
        "        self.dilated1 = nn.Sequential(\n",
        "            nn.Conv2d(in_channels=8, out_channels=16, kernel_size=(3, 3), padding=0 , bias=False, dilation=1),\n",
        "            nn.ReLU(),\n",
        "            nn.BatchNorm2d(16),\n",
        "            nn.Dropout(dropout_value)\n",
        "        ) \n",
        "        # input_size = 8 output_size = 6 receptive_field = ??\n",
        "        self.dilated2 = nn.Sequential(\n",
        "            nn.Conv2d(in_channels=16, out_channels=32, kernel_size=(3, 3), padding=0, bias=False, dilation=1),\n",
        "            nn.ReLU(),\n",
        "            nn.BatchNorm2d(32),\n",
        "            nn.Dropout(dropout_value)\n",
        "        ) \n",
        "        # input_size = 6 output_size = 4 receptive_field = ??\n",
        "\n",
        "        self.dilated3 = nn.Sequential(\n",
        "            nn.Conv2d(in_channels=32, out_channels=64, kernel_size=(3, 3), padding=0, bias=False, dilation=1),\n",
        "            nn.ReLU(),\n",
        "            nn.BatchNorm2d(64),\n",
        "            nn.Dropout(dropout_value)\n",
        "        ) \n",
        "        # input_size = 4 output_size = 2 receptive_field = ??\n",
        "        # CONVOLUTION BLOCK 3 ENDS =============\n",
        "\n",
        "        # OUTPUT BLOCK\n",
        "        self.GAP = nn.AdaptiveAvgPool2d(2)\n",
        "        self.FC = nn.Linear(64*2*2, num_classes)\n",
        "        \n",
        "\n",
        "    def forward(self, x):\n",
        "        x = self.convblock1(x)\n",
        "        x = self.convblock2(x)\n",
        "        x = self.convblock3(x)\n",
        "        x = self.convblock4(x)\n",
        "        x = self.pool1(x)\n",
        "        x = self.convblock5(x)\n",
        "        x = self.depthwise1(x)\n",
        "        x = self.depthwise2(x)\n",
        "        x = self.depthwise3(x)\n",
        "        x = self.pool2(x)\n",
        "        x = self.convblock6(x)\n",
        "        x = self.dilated1(x)\n",
        "        x = self.dilated2(x)\n",
        "        x = self.dilated3(x)\n",
        "        # print(x.shape)\n",
        "        x = self.GAP(x)\n",
        "        # print(x.shape)\n",
        "        x = x.view(x.size(0), -1)\n",
        "        # print(x.shape)\n",
        "        x = self.FC(x)\n",
        "        return F.log_softmax(x, dim=-1)"
      ],
      "execution_count": 0,
      "outputs": []
    },
    {
      "cell_type": "code",
      "metadata": {
        "id": "9dFFoJpi4Q5J",
        "colab_type": "code",
        "outputId": "4156488f-9e8d-445d-ecac-206b69f0db28",
        "colab": {
          "base_uri": "https://localhost:8080/",
          "height": 1000
        }
      },
      "source": [
        "# !pip install torchsummary\n",
        "from torchsummary import summary\n",
        "\n",
        "use_cuda = torch.cuda.is_available()\n",
        "device = torch.device(\"cuda\" if use_cuda else \"cpu\")\n",
        "print(device)\n",
        "model = Net().to(device)\n",
        "summary(model, input_size=(3,32,32))"
      ],
      "execution_count": 5,
      "outputs": [
        {
          "output_type": "stream",
          "text": [
            "cuda\n",
            "----------------------------------------------------------------\n",
            "        Layer (type)               Output Shape         Param #\n",
            "================================================================\n",
            "            Conv2d-1            [-1, 8, 32, 32]             216\n",
            "              ReLU-2            [-1, 8, 32, 32]               0\n",
            "       BatchNorm2d-3            [-1, 8, 32, 32]              16\n",
            "           Dropout-4            [-1, 8, 32, 32]               0\n",
            "            Conv2d-5           [-1, 16, 32, 32]           1,152\n",
            "              ReLU-6           [-1, 16, 32, 32]               0\n",
            "       BatchNorm2d-7           [-1, 16, 32, 32]              32\n",
            "           Dropout-8           [-1, 16, 32, 32]               0\n",
            "            Conv2d-9           [-1, 32, 32, 32]           4,608\n",
            "             ReLU-10           [-1, 32, 32, 32]               0\n",
            "      BatchNorm2d-11           [-1, 32, 32, 32]              64\n",
            "          Dropout-12           [-1, 32, 32, 32]               0\n",
            "           Conv2d-13           [-1, 64, 32, 32]          18,432\n",
            "             ReLU-14           [-1, 64, 32, 32]               0\n",
            "      BatchNorm2d-15           [-1, 64, 32, 32]             128\n",
            "          Dropout-16           [-1, 64, 32, 32]               0\n",
            "        MaxPool2d-17           [-1, 64, 16, 16]               0\n",
            "           Conv2d-18            [-1, 8, 16, 16]             512\n",
            "             ReLU-19            [-1, 8, 16, 16]               0\n",
            "      BatchNorm2d-20            [-1, 8, 16, 16]              16\n",
            "          Dropout-21            [-1, 8, 16, 16]               0\n",
            "           Conv2d-22           [-1, 16, 16, 16]             144\n",
            "             ReLU-23           [-1, 16, 16, 16]               0\n",
            "      BatchNorm2d-24           [-1, 16, 16, 16]              32\n",
            "          Dropout-25           [-1, 16, 16, 16]               0\n",
            "           Conv2d-26           [-1, 32, 16, 16]             288\n",
            "             ReLU-27           [-1, 32, 16, 16]               0\n",
            "      BatchNorm2d-28           [-1, 32, 16, 16]              64\n",
            "          Dropout-29           [-1, 32, 16, 16]               0\n",
            "           Conv2d-30           [-1, 64, 16, 16]             576\n",
            "             ReLU-31           [-1, 64, 16, 16]               0\n",
            "      BatchNorm2d-32           [-1, 64, 16, 16]             128\n",
            "          Dropout-33           [-1, 64, 16, 16]               0\n",
            "        MaxPool2d-34             [-1, 64, 8, 8]               0\n",
            "           Conv2d-35              [-1, 8, 8, 8]             512\n",
            "             ReLU-36              [-1, 8, 8, 8]               0\n",
            "      BatchNorm2d-37              [-1, 8, 8, 8]              16\n",
            "          Dropout-38              [-1, 8, 8, 8]               0\n",
            "           Conv2d-39             [-1, 16, 6, 6]           1,152\n",
            "             ReLU-40             [-1, 16, 6, 6]               0\n",
            "      BatchNorm2d-41             [-1, 16, 6, 6]              32\n",
            "          Dropout-42             [-1, 16, 6, 6]               0\n",
            "           Conv2d-43             [-1, 32, 4, 4]           4,608\n",
            "             ReLU-44             [-1, 32, 4, 4]               0\n",
            "      BatchNorm2d-45             [-1, 32, 4, 4]              64\n",
            "          Dropout-46             [-1, 32, 4, 4]               0\n",
            "           Conv2d-47             [-1, 64, 2, 2]          18,432\n",
            "             ReLU-48             [-1, 64, 2, 2]               0\n",
            "      BatchNorm2d-49             [-1, 64, 2, 2]             128\n",
            "          Dropout-50             [-1, 64, 2, 2]               0\n",
            "AdaptiveAvgPool2d-51             [-1, 64, 2, 2]               0\n",
            "           Linear-52                   [-1, 10]           2,570\n",
            "================================================================\n",
            "Total params: 53,922\n",
            "Trainable params: 53,922\n",
            "Non-trainable params: 0\n",
            "----------------------------------------------------------------\n",
            "Input size (MB): 0.01\n",
            "Forward/backward pass size (MB): 4.90\n",
            "Params size (MB): 0.21\n",
            "Estimated Total Size (MB): 5.12\n",
            "----------------------------------------------------------------\n"
          ],
          "name": "stdout"
        }
      ]
    },
    {
      "cell_type": "markdown",
      "metadata": {
        "id": "Wdw2NNCUpoCu",
        "colab_type": "text"
      },
      "source": [
        "### 3. Define a Loss function and optimizer\n",
        "Let's use a Classification Cross-Entropy loss and SGD with momentum.\n",
        "\n"
      ]
    },
    {
      "cell_type": "code",
      "metadata": {
        "id": "M4xBbDROpoCv",
        "colab_type": "code",
        "colab": {}
      },
      "source": [
        "import torch.optim as optim\n",
        "\n",
        "criterion = nn.CrossEntropyLoss()\n",
        "optimizer = optim.SGD(model.parameters(), lr=0.1, momentum=0.9)"
      ],
      "execution_count": 0,
      "outputs": []
    },
    {
      "cell_type": "markdown",
      "metadata": {
        "id": "O-odOrhdpoC2",
        "colab_type": "text"
      },
      "source": [
        "## 4. Train the network\n",
        "\n",
        "This is when things start to get interesting.\n",
        "We simply have to loop over our data iterator, and feed the inputs to the\n",
        "network and optimize.\n",
        "\n",
        "\n"
      ]
    },
    {
      "cell_type": "code",
      "metadata": {
        "id": "kkuRfo1IpoC3",
        "colab_type": "code",
        "outputId": "df1ec702-3dae-478b-8aad-3994cc9fb1f2",
        "colab": {
          "base_uri": "https://localhost:8080/",
          "height": 1000
        }
      },
      "source": [
        "from tqdm import tqdm\n",
        "\n",
        "\n",
        "for epoch in range(51):  # loop over the dataset multiple times\n",
        "    print(\"\\n Epoch: \" + str(epoch))\n",
        "    pbar = tqdm(trainloader)\n",
        "    running_loss = 0.0\n",
        "    correct = 0\n",
        "    processed = 0\n",
        "    for i, (data, target) in enumerate(pbar):\n",
        "        # get the inputs\n",
        "        inputs, labels = data.to(device), target.to(device)\n",
        "\n",
        "        # zero the parameter gradients\n",
        "        optimizer.zero_grad()\n",
        "\n",
        "        # forward + backward + optimize\n",
        "        outputs = model(inputs)\n",
        "        loss = criterion(outputs, labels)\n",
        "        loss.backward()\n",
        "        optimizer.step()\n",
        "\n",
        "        # print statistics\n",
        "        running_loss += loss.item()\n",
        "        if i % 2000 == 1999:    # print every 2000 mini-batches\n",
        "            print('[%d, %5d] loss: %.3f' %\n",
        "                  (epoch + 1, i + 1, running_loss / 2000))\n",
        "            running_loss = 0.0\n",
        "        # Predict\n",
        "        y_pred = model(inputs)\n",
        "        # Update pbar-tqdm    \n",
        "        pred = y_pred.argmax(dim=1, keepdim=True)  # get the index of the max log-probability\n",
        "        correct += pred.eq(labels.view_as(pred)).sum().item()\n",
        "        processed += len(data)      \n",
        "        pbar.set_description(desc= f'Loss={loss.item()} Batch_id={i} Accuracy={100*correct/processed:0.2f}')\n",
        "\n",
        "    misclassified_images_list = []\n",
        "    model.eval()\n",
        "    test_loss = 0\n",
        "    correct = 0\n",
        "    with torch.no_grad():\n",
        "        for data, target in testloader:\n",
        "            data, target = data.to(device), target.to(device)\n",
        "            output = model(data)\n",
        "            test_loss += criterion(output, target).item()  # sum up batch loss\n",
        "            pred = output.argmax(dim=1, keepdim=True)  # get the index of the max log-probability\n",
        "            pred_value = torch.max(output, dim=1).values\n",
        "\n",
        "            \n",
        "            match_tensor = pred.eq(target.view_as(pred))\n",
        "            misclassified_images_in_batch = torch.where(match_tensor == False)\n",
        "            for eachimage in misclassified_images_in_batch[0]:\n",
        "               #bp()\n",
        "               image_predlist = [data[eachimage], pred[eachimage].item(), pred_value[eachimage].item(), target[eachimage].item()]\n",
        "               misclassified_images_list.append(image_predlist)\n",
        "            correct += match_tensor.sum().item()\n",
        "\n",
        "    test_loss /= len(testloader.dataset)\n",
        "    \n",
        "\n",
        "    print('\\nTest set: Average loss: {:.4f}, Accuracy: {}/{} ({:.2f}%)\\n'.format(\n",
        "        test_loss, correct, len(testloader.dataset),\n",
        "        100. * correct / len(testloader.dataset)))\n",
        "    \n",
        "    test_acc = 100. * correct / len(testloader.dataset)\n",
        "\n",
        "print('Finished Training')"
      ],
      "execution_count": 8,
      "outputs": [
        {
          "output_type": "stream",
          "text": [
            "\n",
            "  0%|          | 0/1563 [00:00<?, ?it/s]\u001b[A"
          ],
          "name": "stderr"
        },
        {
          "output_type": "stream",
          "text": [
            "\n",
            " Epoch: 0\n"
          ],
          "name": "stdout"
        },
        {
          "output_type": "stream",
          "text": [
            "\n",
            "Loss=nan Batch_id=0 Accuracy=12.50:   0%|          | 0/1563 [00:00<?, ?it/s]\u001b[A\n",
            "Loss=nan Batch_id=0 Accuracy=12.50:   0%|          | 1/1563 [00:00<12:01,  2.17it/s]\u001b[A\n",
            "Loss=nan Batch_id=1 Accuracy=7.81:   0%|          | 1/1563 [00:00<12:01,  2.17it/s] \u001b[A\n",
            "Loss=nan Batch_id=2 Accuracy=5.21:   0%|          | 1/1563 [00:00<12:01,  2.17it/s]\u001b[A\n",
            "Loss=nan Batch_id=3 Accuracy=7.03:   0%|          | 1/1563 [00:00<12:01,  2.17it/s]\u001b[A\n",
            "Loss=nan Batch_id=4 Accuracy=8.12:   0%|          | 1/1563 [00:00<12:01,  2.17it/s]\u001b[A\n",
            "Loss=nan Batch_id=4 Accuracy=8.12:   0%|          | 5/1563 [00:00<08:38,  3.00it/s]\u001b[A\n",
            "Loss=nan Batch_id=5 Accuracy=8.33:   0%|          | 5/1563 [00:00<08:38,  3.00it/s]\u001b[A\n",
            "Loss=nan Batch_id=6 Accuracy=8.93:   0%|          | 5/1563 [00:00<08:38,  3.00it/s]\u001b[A\n",
            "Loss=nan Batch_id=7 Accuracy=8.98:   0%|          | 5/1563 [00:00<08:38,  3.00it/s]\u001b[A\n",
            "Loss=nan Batch_id=8 Accuracy=9.03:   0%|          | 5/1563 [00:00<08:38,  3.00it/s]\u001b[A\n",
            "Loss=nan Batch_id=8 Accuracy=9.03:   1%|          | 9/1563 [00:00<06:16,  4.13it/s]\u001b[A\n",
            "Loss=nan Batch_id=9 Accuracy=8.75:   1%|          | 9/1563 [00:00<06:16,  4.13it/s]\u001b[A\n",
            "Loss=nan Batch_id=10 Accuracy=9.09:   1%|          | 9/1563 [00:00<06:16,  4.13it/s]\u001b[A\n",
            "Loss=nan Batch_id=11 Accuracy=9.64:   1%|          | 9/1563 [00:00<06:16,  4.13it/s]\u001b[A\n",
            "Loss=nan Batch_id=12 Accuracy=9.62:   1%|          | 9/1563 [00:00<06:16,  4.13it/s]\u001b[A\n",
            "Loss=nan Batch_id=12 Accuracy=9.62:   1%|          | 13/1563 [00:00<04:36,  5.61it/s]\u001b[A\n",
            "Loss=nan Batch_id=13 Accuracy=9.38:   1%|          | 13/1563 [00:00<04:36,  5.61it/s]\u001b[A\n",
            "Loss=nan Batch_id=14 Accuracy=9.17:   1%|          | 13/1563 [00:00<04:36,  5.61it/s]\u001b[A\n",
            "Loss=nan Batch_id=15 Accuracy=9.57:   1%|          | 13/1563 [00:00<04:36,  5.61it/s]\u001b[A\n",
            "Loss=nan Batch_id=16 Accuracy=10.48:   1%|          | 13/1563 [00:00<04:36,  5.61it/s]\u001b[A\n",
            "Loss=nan Batch_id=16 Accuracy=10.48:   1%|          | 17/1563 [00:00<03:26,  7.48it/s]\u001b[A\n",
            "Loss=nan Batch_id=17 Accuracy=10.94:   1%|          | 17/1563 [00:00<03:26,  7.48it/s]\u001b[A\n",
            "Loss=nan Batch_id=18 Accuracy=11.02:   1%|          | 17/1563 [00:01<03:26,  7.48it/s]\u001b[A\n",
            "Loss=nan Batch_id=19 Accuracy=10.94:   1%|          | 17/1563 [00:01<03:26,  7.48it/s]\u001b[A\n",
            "Loss=nan Batch_id=20 Accuracy=11.01:   1%|          | 17/1563 [00:01<03:26,  7.48it/s]\u001b[A\n",
            "Loss=nan Batch_id=20 Accuracy=11.01:   1%|▏         | 21/1563 [00:01<02:38,  9.75it/s]\u001b[A\n",
            "Loss=nan Batch_id=21 Accuracy=11.08:   1%|▏         | 21/1563 [00:01<02:38,  9.75it/s]\u001b[A\n",
            "Loss=nan Batch_id=22 Accuracy=10.87:   1%|▏         | 21/1563 [00:01<02:38,  9.75it/s]\u001b[A\n",
            "Loss=nan Batch_id=23 Accuracy=10.42:   1%|▏         | 21/1563 [00:01<02:38,  9.75it/s]\u001b[A\n",
            "Loss=nan Batch_id=24 Accuracy=10.50:   1%|▏         | 21/1563 [00:01<02:38,  9.75it/s]\u001b[A\n",
            "Loss=nan Batch_id=24 Accuracy=10.50:   2%|▏         | 25/1563 [00:01<02:04, 12.33it/s]\u001b[A\n",
            "Loss=nan Batch_id=25 Accuracy=10.82:   2%|▏         | 25/1563 [00:01<02:04, 12.33it/s]\u001b[A\n",
            "Loss=nan Batch_id=26 Accuracy=10.76:   2%|▏         | 25/1563 [00:01<02:04, 12.33it/s]\u001b[A\n",
            "Loss=nan Batch_id=27 Accuracy=10.38:   2%|▏         | 25/1563 [00:01<02:04, 12.33it/s]\u001b[A\n",
            "Loss=nan Batch_id=28 Accuracy=10.24:   2%|▏         | 25/1563 [00:01<02:04, 12.33it/s]\u001b[A\n",
            "Loss=nan Batch_id=28 Accuracy=10.24:   2%|▏         | 29/1563 [00:01<01:41, 15.18it/s]\u001b[A\n",
            "Loss=nan Batch_id=29 Accuracy=10.10:   2%|▏         | 29/1563 [00:01<01:41, 15.18it/s]\u001b[A\n",
            "Loss=nan Batch_id=30 Accuracy=9.98:   2%|▏         | 29/1563 [00:01<01:41, 15.18it/s] \u001b[A\n",
            "Loss=nan Batch_id=31 Accuracy=9.86:   2%|▏         | 29/1563 [00:01<01:41, 15.18it/s]\u001b[A\n",
            "Loss=nan Batch_id=32 Accuracy=9.94:   2%|▏         | 29/1563 [00:01<01:41, 15.18it/s]\u001b[A\n",
            "Loss=nan Batch_id=32 Accuracy=9.94:   2%|▏         | 33/1563 [00:01<01:25, 17.84it/s]\u001b[A\n",
            "Loss=nan Batch_id=33 Accuracy=10.02:   2%|▏         | 33/1563 [00:01<01:25, 17.84it/s]\u001b[A\n",
            "Loss=nan Batch_id=34 Accuracy=9.91:   2%|▏         | 33/1563 [00:01<01:25, 17.84it/s] \u001b[A\n",
            "Loss=nan Batch_id=35 Accuracy=9.90:   2%|▏         | 33/1563 [00:01<01:25, 17.84it/s]\u001b[A\n",
            "Loss=nan Batch_id=36 Accuracy=10.05:   2%|▏         | 33/1563 [00:01<01:25, 17.84it/s]\u001b[A\n",
            "Loss=nan Batch_id=36 Accuracy=10.05:   2%|▏         | 37/1563 [00:01<01:13, 20.88it/s]\u001b[A\n",
            "Loss=nan Batch_id=37 Accuracy=9.87:   2%|▏         | 37/1563 [00:01<01:13, 20.88it/s] \u001b[A\n",
            "Loss=nan Batch_id=38 Accuracy=10.18:   2%|▏         | 37/1563 [00:01<01:13, 20.88it/s]\u001b[A\n",
            "Loss=nan Batch_id=39 Accuracy=10.23:   2%|▏         | 37/1563 [00:01<01:13, 20.88it/s]\u001b[A\n",
            "Loss=nan Batch_id=40 Accuracy=10.44:   2%|▏         | 37/1563 [00:01<01:13, 20.88it/s]\u001b[A\n",
            "Loss=nan Batch_id=40 Accuracy=10.44:   3%|▎         | 41/1563 [00:01<01:05, 23.17it/s]\u001b[A\n",
            "Loss=nan Batch_id=41 Accuracy=10.42:   3%|▎         | 41/1563 [00:01<01:05, 23.17it/s]\u001b[A\n",
            "Loss=nan Batch_id=42 Accuracy=10.39:   3%|▎         | 41/1563 [00:01<01:05, 23.17it/s]\u001b[A\n",
            "Loss=nan Batch_id=43 Accuracy=10.44:   3%|▎         | 41/1563 [00:01<01:05, 23.17it/s]\u001b[A\n",
            "Loss=nan Batch_id=44 Accuracy=10.35:   3%|▎         | 41/1563 [00:01<01:05, 23.17it/s]\u001b[A\n",
            "Loss=nan Batch_id=44 Accuracy=10.35:   3%|▎         | 45/1563 [00:01<00:59, 25.51it/s]\u001b[A\n",
            "Loss=nan Batch_id=45 Accuracy=10.53:   3%|▎         | 45/1563 [00:01<00:59, 25.51it/s]\u001b[A\n",
            "Loss=nan Batch_id=46 Accuracy=10.70:   3%|▎         | 45/1563 [00:01<00:59, 25.51it/s]\u001b[A\n",
            "Loss=nan Batch_id=47 Accuracy=10.48:   3%|▎         | 45/1563 [00:01<00:59, 25.51it/s]\u001b[A\n",
            "Loss=nan Batch_id=48 Accuracy=10.65:   3%|▎         | 45/1563 [00:01<00:59, 25.51it/s]\u001b[A\n",
            "Loss=nan Batch_id=48 Accuracy=10.65:   3%|▎         | 49/1563 [00:01<00:54, 27.72it/s]\u001b[A\n",
            "Loss=nan Batch_id=49 Accuracy=10.69:   3%|▎         | 49/1563 [00:01<00:54, 27.72it/s]\u001b[A\n",
            "Loss=nan Batch_id=50 Accuracy=10.48:   3%|▎         | 49/1563 [00:01<00:54, 27.72it/s]\u001b[A\n",
            "Loss=nan Batch_id=51 Accuracy=10.52:   3%|▎         | 49/1563 [00:02<00:54, 27.72it/s]\u001b[A\n",
            "Loss=nan Batch_id=52 Accuracy=10.50:   3%|▎         | 49/1563 [00:02<00:54, 27.72it/s]\u001b[A\n",
            "Loss=nan Batch_id=52 Accuracy=10.50:   3%|▎         | 53/1563 [00:02<00:50, 29.63it/s]\u001b[A\n",
            "Loss=nan Batch_id=53 Accuracy=10.53:   3%|▎         | 53/1563 [00:02<00:50, 29.63it/s]\u001b[A\n",
            "Loss=nan Batch_id=54 Accuracy=10.57:   3%|▎         | 53/1563 [00:02<00:50, 29.63it/s]\u001b[A\n",
            "Loss=nan Batch_id=55 Accuracy=10.60:   3%|▎         | 53/1563 [00:02<00:50, 29.63it/s]\u001b[A\n",
            "Loss=nan Batch_id=56 Accuracy=10.64:   3%|▎         | 53/1563 [00:02<00:50, 29.63it/s]\u001b[A\n",
            "Loss=nan Batch_id=56 Accuracy=10.64:   4%|▎         | 57/1563 [00:02<00:49, 30.20it/s]\u001b[A\n",
            "Loss=nan Batch_id=57 Accuracy=10.56:   4%|▎         | 57/1563 [00:02<00:49, 30.20it/s]\u001b[A\n",
            "Loss=nan Batch_id=58 Accuracy=10.65:   4%|▎         | 57/1563 [00:02<00:49, 30.20it/s]\u001b[A\n",
            "Loss=nan Batch_id=59 Accuracy=10.57:   4%|▎         | 57/1563 [00:02<00:49, 30.20it/s]\u001b[A\n",
            "Loss=nan Batch_id=60 Accuracy=10.60:   4%|▎         | 57/1563 [00:02<00:49, 30.20it/s]\u001b[A\n",
            "Loss=nan Batch_id=60 Accuracy=10.60:   4%|▍         | 61/1563 [00:02<00:48, 30.80it/s]\u001b[A\n",
            "Loss=nan Batch_id=61 Accuracy=10.53:   4%|▍         | 61/1563 [00:02<00:48, 30.80it/s]\u001b[A\n",
            "Loss=nan Batch_id=62 Accuracy=10.42:   4%|▍         | 61/1563 [00:02<00:48, 30.80it/s]\u001b[A\n",
            "Loss=nan Batch_id=63 Accuracy=10.30:   4%|▍         | 61/1563 [00:02<00:48, 30.80it/s]\u001b[A\n",
            "Loss=nan Batch_id=64 Accuracy=10.24:   4%|▍         | 61/1563 [00:02<00:48, 30.80it/s]\u001b[A\n",
            "Loss=nan Batch_id=64 Accuracy=10.24:   4%|▍         | 65/1563 [00:02<00:47, 31.51it/s]\u001b[A\n",
            "Loss=nan Batch_id=65 Accuracy=10.18:   4%|▍         | 65/1563 [00:02<00:47, 31.51it/s]\u001b[A\n",
            "Loss=nan Batch_id=66 Accuracy=10.17:   4%|▍         | 65/1563 [00:02<00:47, 31.51it/s]\u001b[A\n",
            "Loss=nan Batch_id=67 Accuracy=10.06:   4%|▍         | 65/1563 [00:02<00:47, 31.51it/s]\u001b[A\n",
            "Loss=nan Batch_id=68 Accuracy=10.01:   4%|▍         | 65/1563 [00:02<00:47, 31.51it/s]\u001b[A\n",
            "Loss=nan Batch_id=68 Accuracy=10.01:   4%|▍         | 69/1563 [00:02<00:46, 31.91it/s]\u001b[A\n",
            "Loss=nan Batch_id=69 Accuracy=10.00:   4%|▍         | 69/1563 [00:02<00:46, 31.91it/s]\u001b[A\n",
            "Loss=nan Batch_id=70 Accuracy=9.95:   4%|▍         | 69/1563 [00:02<00:46, 31.91it/s] \u001b[A\n",
            "Loss=nan Batch_id=71 Accuracy=9.94:   4%|▍         | 69/1563 [00:02<00:46, 31.91it/s]\u001b[A\n",
            "Loss=nan Batch_id=72 Accuracy=9.97:   4%|▍         | 69/1563 [00:02<00:46, 31.91it/s]\u001b[A\n",
            "Loss=nan Batch_id=72 Accuracy=9.97:   5%|▍         | 73/1563 [00:02<00:46, 31.95it/s]\u001b[A\n",
            "Loss=nan Batch_id=73 Accuracy=9.97:   5%|▍         | 73/1563 [00:02<00:46, 31.95it/s]\u001b[A\n",
            "Loss=nan Batch_id=74 Accuracy=9.88:   5%|▍         | 73/1563 [00:02<00:46, 31.95it/s]\u001b[A\n",
            "Loss=nan Batch_id=75 Accuracy=9.87:   5%|▍         | 73/1563 [00:02<00:46, 31.95it/s]\u001b[A\n",
            "Loss=nan Batch_id=76 Accuracy=9.90:   5%|▍         | 73/1563 [00:02<00:46, 31.95it/s]\u001b[A\n",
            "Loss=nan Batch_id=76 Accuracy=9.90:   5%|▍         | 77/1563 [00:02<00:45, 32.40it/s]\u001b[A\n",
            "Loss=nan Batch_id=77 Accuracy=9.86:   5%|▍         | 77/1563 [00:02<00:45, 32.40it/s]\u001b[A\n",
            "Loss=nan Batch_id=78 Accuracy=9.81:   5%|▍         | 77/1563 [00:02<00:45, 32.40it/s]\u001b[A\n",
            "Loss=nan Batch_id=79 Accuracy=9.80:   5%|▍         | 77/1563 [00:02<00:45, 32.40it/s]\u001b[A\n",
            "Loss=nan Batch_id=80 Accuracy=9.80:   5%|▍         | 77/1563 [00:02<00:45, 32.40it/s]\u001b[A\n",
            "Loss=nan Batch_id=80 Accuracy=9.80:   5%|▌         | 81/1563 [00:02<00:44, 33.22it/s]\u001b[A\n",
            "Loss=nan Batch_id=81 Accuracy=9.79:   5%|▌         | 81/1563 [00:02<00:44, 33.22it/s]\u001b[A\n",
            "Loss=nan Batch_id=82 Accuracy=10.02:   5%|▌         | 81/1563 [00:02<00:44, 33.22it/s]\u001b[A\n",
            "Loss=nan Batch_id=83 Accuracy=9.97:   5%|▌         | 81/1563 [00:02<00:44, 33.22it/s] \u001b[A\n",
            "Loss=nan Batch_id=84 Accuracy=9.93:   5%|▌         | 81/1563 [00:02<00:44, 33.22it/s]\u001b[A\n",
            "Loss=nan Batch_id=84 Accuracy=9.93:   5%|▌         | 85/1563 [00:03<00:43, 33.68it/s]\u001b[A\n",
            "Loss=nan Batch_id=85 Accuracy=9.88:   5%|▌         | 85/1563 [00:03<00:43, 33.68it/s]\u001b[A\n",
            "Loss=nan Batch_id=86 Accuracy=9.84:   5%|▌         | 85/1563 [00:03<00:43, 33.68it/s]\u001b[A\n",
            "Loss=nan Batch_id=87 Accuracy=9.77:   5%|▌         | 85/1563 [00:03<00:43, 33.68it/s]\u001b[A\n",
            "Loss=nan Batch_id=88 Accuracy=9.80:   5%|▌         | 85/1563 [00:03<00:43, 33.68it/s]\u001b[A\n",
            "Loss=nan Batch_id=88 Accuracy=9.80:   6%|▌         | 89/1563 [00:03<00:45, 32.75it/s]\u001b[A\n",
            "Loss=nan Batch_id=89 Accuracy=9.72:   6%|▌         | 89/1563 [00:03<00:45, 32.75it/s]\u001b[A\n",
            "Loss=nan Batch_id=90 Accuracy=9.68:   6%|▌         | 89/1563 [00:03<00:45, 32.75it/s]\u001b[A\n",
            "Loss=nan Batch_id=91 Accuracy=9.65:   6%|▌         | 89/1563 [00:03<00:45, 32.75it/s]\u001b[A\n",
            "Loss=nan Batch_id=92 Accuracy=9.64:   6%|▌         | 89/1563 [00:03<00:45, 32.75it/s]\u001b[A\n",
            "Loss=nan Batch_id=92 Accuracy=9.64:   6%|▌         | 93/1563 [00:03<00:43, 33.50it/s]\u001b[A\n",
            "Loss=nan Batch_id=93 Accuracy=9.64:   6%|▌         | 93/1563 [00:03<00:43, 33.50it/s]\u001b[A\n",
            "Loss=nan Batch_id=94 Accuracy=9.61:   6%|▌         | 93/1563 [00:03<00:43, 33.50it/s]\u001b[A\n",
            "Loss=nan Batch_id=95 Accuracy=9.64:   6%|▌         | 93/1563 [00:03<00:43, 33.50it/s]\u001b[A\n",
            "Loss=nan Batch_id=96 Accuracy=9.63:   6%|▌         | 93/1563 [00:03<00:43, 33.50it/s]\u001b[A\n",
            "Loss=nan Batch_id=96 Accuracy=9.63:   6%|▌         | 97/1563 [00:03<00:44, 32.76it/s]\u001b[A\n",
            "Loss=nan Batch_id=97 Accuracy=9.63:   6%|▌         | 97/1563 [00:03<00:44, 32.76it/s]\u001b[A\n",
            "Loss=nan Batch_id=98 Accuracy=9.63:   6%|▌         | 97/1563 [00:03<00:44, 32.76it/s]\u001b[A\n",
            "Loss=nan Batch_id=99 Accuracy=9.59:   6%|▌         | 97/1563 [00:03<00:44, 32.76it/s]\u001b[A\n",
            "Loss=nan Batch_id=100 Accuracy=9.65:   6%|▌         | 97/1563 [00:03<00:44, 32.76it/s]\u001b[A\n",
            "Loss=nan Batch_id=100 Accuracy=9.65:   6%|▋         | 101/1563 [00:03<00:44, 32.60it/s]\u001b[A\n",
            "Loss=nan Batch_id=101 Accuracy=9.59:   6%|▋         | 101/1563 [00:03<00:44, 32.60it/s]\u001b[A\n",
            "Loss=nan Batch_id=102 Accuracy=9.59:   6%|▋         | 101/1563 [00:03<00:44, 32.60it/s]\u001b[A\n",
            "Loss=nan Batch_id=103 Accuracy=9.50:   6%|▋         | 101/1563 [00:03<00:44, 32.60it/s]\u001b[A\n",
            "Loss=nan Batch_id=104 Accuracy=9.58:   6%|▋         | 101/1563 [00:03<00:44, 32.60it/s]\u001b[A\n",
            "Loss=nan Batch_id=104 Accuracy=9.58:   7%|▋         | 105/1563 [00:03<00:44, 32.94it/s]\u001b[A\n",
            "Loss=nan Batch_id=105 Accuracy=9.58:   7%|▋         | 105/1563 [00:03<00:44, 32.94it/s]\u001b[A\n",
            "Loss=nan Batch_id=106 Accuracy=9.55:   7%|▋         | 105/1563 [00:03<00:44, 32.94it/s]\u001b[A\n",
            "Loss=nan Batch_id=107 Accuracy=9.61:   7%|▋         | 105/1563 [00:03<00:44, 32.94it/s]\u001b[A\n",
            "Loss=nan Batch_id=108 Accuracy=9.58:   7%|▋         | 105/1563 [00:03<00:44, 32.94it/s]\u001b[A\n",
            "Loss=nan Batch_id=108 Accuracy=9.58:   7%|▋         | 109/1563 [00:03<00:44, 32.83it/s]\u001b[A\n",
            "Loss=nan Batch_id=109 Accuracy=9.55:   7%|▋         | 109/1563 [00:03<00:44, 32.83it/s]\u001b[A\n",
            "Loss=nan Batch_id=110 Accuracy=9.54:   7%|▋         | 109/1563 [00:03<00:44, 32.83it/s]\u001b[A\n",
            "Loss=nan Batch_id=111 Accuracy=9.49:   7%|▋         | 109/1563 [00:03<00:44, 32.83it/s]\u001b[A\n",
            "Loss=nan Batch_id=112 Accuracy=9.62:   7%|▋         | 109/1563 [00:03<00:44, 32.83it/s]\u001b[A\n",
            "Loss=nan Batch_id=112 Accuracy=9.62:   7%|▋         | 113/1563 [00:03<00:44, 32.83it/s]\u001b[A\n",
            "Loss=nan Batch_id=113 Accuracy=9.57:   7%|▋         | 113/1563 [00:03<00:44, 32.83it/s]\u001b[A\n",
            "Loss=nan Batch_id=114 Accuracy=9.73:   7%|▋         | 113/1563 [00:03<00:44, 32.83it/s]\u001b[A\n",
            "Loss=nan Batch_id=115 Accuracy=9.70:   7%|▋         | 113/1563 [00:03<00:44, 32.83it/s]\u001b[A\n",
            "Loss=nan Batch_id=116 Accuracy=9.72:   7%|▋         | 113/1563 [00:03<00:44, 32.83it/s]\u001b[A\n",
            "Loss=nan Batch_id=116 Accuracy=9.72:   7%|▋         | 117/1563 [00:03<00:43, 32.95it/s]\u001b[A\n",
            "Loss=nan Batch_id=117 Accuracy=9.69:   7%|▋         | 117/1563 [00:04<00:43, 32.95it/s]\u001b[A\n",
            "Loss=nan Batch_id=118 Accuracy=9.69:   7%|▋         | 117/1563 [00:04<00:43, 32.95it/s]\u001b[A\n",
            "Loss=nan Batch_id=119 Accuracy=9.64:   7%|▋         | 117/1563 [00:04<00:43, 32.95it/s]\u001b[A"
          ],
          "name": "stderr"
        },
        {
          "output_type": "error",
          "ename": "KeyboardInterrupt",
          "evalue": "ignored",
          "traceback": [
            "\u001b[0;31m---------------------------------------------------------------------------\u001b[0m",
            "\u001b[0;31mKeyboardInterrupt\u001b[0m                         Traceback (most recent call last)",
            "\u001b[0;32m<ipython-input-8-cfb9930bb3b2>\u001b[0m in \u001b[0;36m<module>\u001b[0;34m()\u001b[0m\n\u001b[1;32m     10\u001b[0m     \u001b[0;32mfor\u001b[0m \u001b[0mi\u001b[0m\u001b[0;34m,\u001b[0m \u001b[0;34m(\u001b[0m\u001b[0mdata\u001b[0m\u001b[0;34m,\u001b[0m \u001b[0mtarget\u001b[0m\u001b[0;34m)\u001b[0m \u001b[0;32min\u001b[0m \u001b[0menumerate\u001b[0m\u001b[0;34m(\u001b[0m\u001b[0mpbar\u001b[0m\u001b[0;34m)\u001b[0m\u001b[0;34m:\u001b[0m\u001b[0;34m\u001b[0m\u001b[0;34m\u001b[0m\u001b[0m\n\u001b[1;32m     11\u001b[0m         \u001b[0;31m# get the inputs\u001b[0m\u001b[0;34m\u001b[0m\u001b[0;34m\u001b[0m\u001b[0;34m\u001b[0m\u001b[0m\n\u001b[0;32m---> 12\u001b[0;31m         \u001b[0minputs\u001b[0m\u001b[0;34m,\u001b[0m \u001b[0mlabels\u001b[0m \u001b[0;34m=\u001b[0m \u001b[0mdata\u001b[0m\u001b[0;34m.\u001b[0m\u001b[0mto\u001b[0m\u001b[0;34m(\u001b[0m\u001b[0mdevice\u001b[0m\u001b[0;34m)\u001b[0m\u001b[0;34m,\u001b[0m \u001b[0mtarget\u001b[0m\u001b[0;34m.\u001b[0m\u001b[0mto\u001b[0m\u001b[0;34m(\u001b[0m\u001b[0mdevice\u001b[0m\u001b[0;34m)\u001b[0m\u001b[0;34m\u001b[0m\u001b[0;34m\u001b[0m\u001b[0m\n\u001b[0m\u001b[1;32m     13\u001b[0m \u001b[0;34m\u001b[0m\u001b[0m\n\u001b[1;32m     14\u001b[0m         \u001b[0;31m# zero the parameter gradients\u001b[0m\u001b[0;34m\u001b[0m\u001b[0;34m\u001b[0m\u001b[0;34m\u001b[0m\u001b[0m\n",
            "\u001b[0;31mKeyboardInterrupt\u001b[0m: "
          ]
        }
      ]
    },
    {
      "cell_type": "markdown",
      "metadata": {
        "id": "YLrvL_fHpoC5",
        "colab_type": "text"
      },
      "source": [
        "## 5. Test the network on the test data\n",
        "\n",
        "We have trained the network for 2 passes over the training dataset.\n",
        "But we need to check if the network has learnt anything at all.\n",
        "\n",
        "We will check this by predicting the class label that the neural network\n",
        "outputs, and checking it against the ground-truth. If the prediction is\n",
        "correct, we add the sample to the list of correct predictions.\n",
        "\n",
        "### Okay, first step. Let us display an image from the test set to get familiar.\n",
        "\n"
      ]
    },
    {
      "cell_type": "code",
      "metadata": {
        "id": "nizbsvw9poC6",
        "colab_type": "code",
        "colab": {}
      },
      "source": [
        "# dataiter = iter(testloader)\n",
        "# images, labels = dataiter.next()\n",
        "\n",
        "# # print images\n",
        "# imshow(torchvision.utils.make_grid(images))\n",
        "# print('GroundTruth: ', ' '.join('%0.1f %5s' % (j,classes[labels[j]]) for j in range(32)))"
      ],
      "execution_count": 0,
      "outputs": []
    },
    {
      "cell_type": "markdown",
      "metadata": {
        "id": "DAx4QPHVpoC8",
        "colab_type": "text"
      },
      "source": [
        "Okay, now let us see what the neural network thinks these examples above are:\n",
        "\n"
      ]
    },
    {
      "cell_type": "code",
      "metadata": {
        "id": "HVLjlssWpoC9",
        "colab_type": "code",
        "colab": {}
      },
      "source": [
        "# net = Net()\n",
        "# outputs = net(images)"
      ],
      "execution_count": 0,
      "outputs": []
    },
    {
      "cell_type": "markdown",
      "metadata": {
        "id": "u8OTHZEApoC_",
        "colab_type": "text"
      },
      "source": [
        "The outputs are energies for the 10 classes.\n",
        "Higher the energy for a class, the more the network\n",
        "thinks that the image is of the particular class.\n",
        "So, let's get the index of the highest energy:\n",
        "\n"
      ]
    },
    {
      "cell_type": "code",
      "metadata": {
        "id": "ABRIDW3lpoDA",
        "colab_type": "code",
        "colab": {}
      },
      "source": [
        "# _, predicted = torch.max(outputs, 1)\n",
        "\n",
        "# print('Predicted: ', ' '.join('%5s' % classes[predicted[j]]\n",
        "#                               for j in range(4)))"
      ],
      "execution_count": 0,
      "outputs": []
    },
    {
      "cell_type": "markdown",
      "metadata": {
        "id": "2TV0TXL1poDC",
        "colab_type": "text"
      },
      "source": [
        "The results seem pretty good.\n",
        "\n",
        "Let us look at how the network performs on the whole dataset.\n",
        "\n"
      ]
    },
    {
      "cell_type": "code",
      "metadata": {
        "id": "SZ4-5CESpoDD",
        "colab_type": "code",
        "colab": {}
      },
      "source": [
        "# correct = 0\n",
        "# total = 0\n",
        "# with torch.no_grad():\n",
        "#     for data in testloader:\n",
        "#         images, labels = data\n",
        "#         outputs = model(images)\n",
        "#         _, predicted = torch.max(outputs.data, 1)\n",
        "#         total += labels.size(0)\n",
        "#         correct += (predicted == labels).sum().item()\n",
        "\n",
        "# print('Accuracy of the network on the 10000 test images: %d %%' % (\n",
        "#     100 * correct / total))"
      ],
      "execution_count": 0,
      "outputs": []
    },
    {
      "cell_type": "markdown",
      "metadata": {
        "id": "eDdwPBl8poDF",
        "colab_type": "text"
      },
      "source": [
        "That looks waaay better than chance, which is 10% accuracy (randomly picking\n",
        "a class out of 10 classes).\n",
        "Seems like the network learnt something.\n",
        "\n",
        "Hmmm, what are the classes that performed well, and the classes that did\n",
        "not perform well:\n",
        "\n"
      ]
    },
    {
      "cell_type": "code",
      "metadata": {
        "id": "pDNFuDEDpoDG",
        "colab_type": "code",
        "colab": {}
      },
      "source": [
        "# class_correct = list(0. for i in range(10))\n",
        "# class_total = list(0. for i in range(10))\n",
        "# with torch.no_grad():\n",
        "#     for data in testloader:\n",
        "#         images, labels = data\n",
        "#         outputs = net(images)\n",
        "#         _, predicted = torch.max(outputs, 1)\n",
        "#         c = (predicted == labels).squeeze()\n",
        "#         for i in range(4):\n",
        "#             label = labels[i]\n",
        "#             class_correct[label] += c[i].item()\n",
        "#             class_total[label] += 1\n",
        "\n",
        "\n",
        "# for i in range(10):\n",
        "#     print('Accuracy of %5s : %2d %%' % (\n",
        "#         classes[i], 100 * class_correct[i] / class_total[i]))"
      ],
      "execution_count": 0,
      "outputs": []
    }
  ]
}